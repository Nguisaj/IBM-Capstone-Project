{
 "cells": [
  {
   "cell_type": "code",
   "execution_count": null,
   "id": "741d7b41-8a40-4f59-ac91-853fde95050e",
   "metadata": {},
   "outputs": [],
   "source": [
    "Normalizing Data\n",
    "\n",
    "Objectives\n",
    "Identify duplicate rows and remove them.\n",
    "\n",
    "Check and handle missing values in key columns.\n",
    "\n",
    "Identify and normalize compensation-related columns.\n",
    "\n",
    "Visualize the effect of normalization techniques on data distributions."
   ]
  },
  {
   "cell_type": "code",
   "execution_count": 1,
   "id": "23111868-335a-4f6d-b96f-a54088c8331c",
   "metadata": {},
   "outputs": [
    {
     "name": "stdout",
     "output_type": "stream",
     "text": [
      "Requirement already satisfied: pandas in c:\\users\\nguif\\anaconda3\\lib\\site-packages (2.2.3)\n",
      "Requirement already satisfied: numpy>=1.26.0 in c:\\users\\nguif\\anaconda3\\lib\\site-packages (from pandas) (1.26.4)\n",
      "Requirement already satisfied: python-dateutil>=2.8.2 in c:\\users\\nguif\\anaconda3\\lib\\site-packages (from pandas) (2.9.0.post0)\n",
      "Requirement already satisfied: pytz>=2020.1 in c:\\users\\nguif\\anaconda3\\lib\\site-packages (from pandas) (2024.1)\n",
      "Requirement already satisfied: tzdata>=2022.7 in c:\\users\\nguif\\anaconda3\\lib\\site-packages (from pandas) (2023.3)\n",
      "Requirement already satisfied: six>=1.5 in c:\\users\\nguif\\anaconda3\\lib\\site-packages (from python-dateutil>=2.8.2->pandas) (1.16.0)\n"
     ]
    }
   ],
   "source": [
    "!pip install pandas"
   ]
  },
  {
   "cell_type": "code",
   "execution_count": 2,
   "id": "52cc9be1-7672-4491-ab26-dce5e4612dc7",
   "metadata": {},
   "outputs": [
    {
     "name": "stdout",
     "output_type": "stream",
     "text": [
      "Requirement already satisfied: matplotlib in c:\\users\\nguif\\anaconda3\\lib\\site-packages (3.9.2)\n",
      "Requirement already satisfied: contourpy>=1.0.1 in c:\\users\\nguif\\anaconda3\\lib\\site-packages (from matplotlib) (1.2.0)\n",
      "Requirement already satisfied: cycler>=0.10 in c:\\users\\nguif\\anaconda3\\lib\\site-packages (from matplotlib) (0.11.0)\n",
      "Requirement already satisfied: fonttools>=4.22.0 in c:\\users\\nguif\\anaconda3\\lib\\site-packages (from matplotlib) (4.51.0)\n",
      "Requirement already satisfied: kiwisolver>=1.3.1 in c:\\users\\nguif\\anaconda3\\lib\\site-packages (from matplotlib) (1.4.4)\n",
      "Requirement already satisfied: numpy>=1.23 in c:\\users\\nguif\\anaconda3\\lib\\site-packages (from matplotlib) (1.26.4)\n",
      "Requirement already satisfied: packaging>=20.0 in c:\\users\\nguif\\anaconda3\\lib\\site-packages (from matplotlib) (24.1)\n",
      "Requirement already satisfied: pillow>=8 in c:\\users\\nguif\\anaconda3\\lib\\site-packages (from matplotlib) (10.4.0)\n",
      "Requirement already satisfied: pyparsing>=2.3.1 in c:\\users\\nguif\\anaconda3\\lib\\site-packages (from matplotlib) (3.1.2)\n",
      "Requirement already satisfied: python-dateutil>=2.7 in c:\\users\\nguif\\anaconda3\\lib\\site-packages (from matplotlib) (2.9.0.post0)\n",
      "Requirement already satisfied: six>=1.5 in c:\\users\\nguif\\anaconda3\\lib\\site-packages (from python-dateutil>=2.7->matplotlib) (1.16.0)\n"
     ]
    }
   ],
   "source": [
    "!pip install matplotlib"
   ]
  },
  {
   "cell_type": "code",
   "execution_count": 3,
   "id": "d517e905-fdbe-45f9-99d0-e39604bcf849",
   "metadata": {},
   "outputs": [],
   "source": [
    "import pandas as pd\n",
    "import matplotlib.pyplot as plt"
   ]
  },
  {
   "cell_type": "code",
   "execution_count": 4,
   "id": "8f0df8f5-0533-468c-b57b-bcbb191ecc73",
   "metadata": {},
   "outputs": [
    {
     "name": "stdout",
     "output_type": "stream",
     "text": [
      "   ResponseId                      MainBranch                 Age  \\\n",
      "0           1  I am a developer by profession  Under 18 years old   \n",
      "1           2  I am a developer by profession     35-44 years old   \n",
      "2           3  I am a developer by profession     45-54 years old   \n",
      "3           4           I am learning to code     18-24 years old   \n",
      "4           5  I am a developer by profession     18-24 years old   \n",
      "\n",
      "            Employment RemoteWork   Check  \\\n",
      "0  Employed, full-time     Remote  Apples   \n",
      "1  Employed, full-time     Remote  Apples   \n",
      "2  Employed, full-time     Remote  Apples   \n",
      "3   Student, full-time        NaN  Apples   \n",
      "4   Student, full-time        NaN  Apples   \n",
      "\n",
      "                                    CodingActivities  \\\n",
      "0                                              Hobby   \n",
      "1  Hobby;Contribute to open-source projects;Other...   \n",
      "2  Hobby;Contribute to open-source projects;Other...   \n",
      "3                                                NaN   \n",
      "4                                                NaN   \n",
      "\n",
      "                                             EdLevel  \\\n",
      "0                          Primary/elementary school   \n",
      "1       Bachelor’s degree (B.A., B.S., B.Eng., etc.)   \n",
      "2    Master’s degree (M.A., M.S., M.Eng., MBA, etc.)   \n",
      "3  Some college/university study without earning ...   \n",
      "4  Secondary school (e.g. American high school, G...   \n",
      "\n",
      "                                           LearnCode  \\\n",
      "0                             Books / Physical media   \n",
      "1  Books / Physical media;Colleague;On the job tr...   \n",
      "2  Books / Physical media;Colleague;On the job tr...   \n",
      "3  Other online resources (e.g., videos, blogs, f...   \n",
      "4  Other online resources (e.g., videos, blogs, f...   \n",
      "\n",
      "                                     LearnCodeOnline  ... JobSatPoints_6  \\\n",
      "0                                                NaN  ...            NaN   \n",
      "1  Technical documentation;Blogs;Books;Written Tu...  ...            0.0   \n",
      "2  Technical documentation;Blogs;Books;Written Tu...  ...            NaN   \n",
      "3  Stack Overflow;How-to videos;Interactive tutorial  ...            NaN   \n",
      "4  Technical documentation;Blogs;Written Tutorial...  ...            NaN   \n",
      "\n",
      "  JobSatPoints_7 JobSatPoints_8 JobSatPoints_9 JobSatPoints_10  \\\n",
      "0            NaN            NaN            NaN             NaN   \n",
      "1            0.0            0.0            0.0             0.0   \n",
      "2            NaN            NaN            NaN             NaN   \n",
      "3            NaN            NaN            NaN             NaN   \n",
      "4            NaN            NaN            NaN             NaN   \n",
      "\n",
      "  JobSatPoints_11           SurveyLength SurveyEase ConvertedCompYearly JobSat  \n",
      "0             NaN                    NaN        NaN                 NaN    NaN  \n",
      "1             0.0                    NaN        NaN                 NaN    NaN  \n",
      "2             NaN  Appropriate in length       Easy                 NaN    NaN  \n",
      "3             NaN               Too long       Easy                 NaN    NaN  \n",
      "4             NaN              Too short       Easy                 NaN    NaN  \n",
      "\n",
      "[5 rows x 114 columns]\n"
     ]
    }
   ],
   "source": [
    "file_path = \"https://cf-courses-data.s3.us.cloud-object-storage.appdomain.cloud/n01PQ9pSmiRX6520flujwQ/survey-data.csv\"\n",
    "\n",
    "df = pd.read_csv(file_path)\n",
    "\n",
    "# Display the first few rows to check if data is loaded correctly\n",
    "print(df.head())\n"
   ]
  },
  {
   "cell_type": "code",
   "execution_count": null,
   "id": "4b7de53a-b134-41ff-8f11-5a581b728be8",
   "metadata": {},
   "outputs": [],
   "source": [
    "Section 1: Handling Duplicates\n",
    "Task 1: Identify and remove duplicate rows."
   ]
  },
  {
   "cell_type": "code",
   "execution_count": 5,
   "id": "1f97b418-179e-4e07-a30b-18ed2ff7039d",
   "metadata": {},
   "outputs": [
    {
     "name": "stdout",
     "output_type": "stream",
     "text": [
      "Number of duplicate rows: 0\n"
     ]
    }
   ],
   "source": [
    "# Identify duplicate rows\n",
    "duplicate_rows = df[df.duplicated()]\n",
    "\n",
    "# Display the number of duplicate rows\n",
    "print(f\"Number of duplicate rows: {duplicate_rows.shape[0]}\")\n",
    "\n",
    "# Optionally, view duplicate rows (optional step)\n",
    "# print(duplicate_rows)"
   ]
  },
  {
   "cell_type": "code",
   "execution_count": null,
   "id": "99677de4-b527-41b0-8d11-a34c86b0c891",
   "metadata": {},
   "outputs": [],
   "source": [
    "Section 2: Handling Missing Values\n",
    "Task 2: Identify missing values in CodingActivities"
   ]
  },
  {
   "cell_type": "code",
   "execution_count": 6,
   "id": "92c7a2f4-6a78-4373-8689-4d63fd4c956d",
   "metadata": {},
   "outputs": [
    {
     "name": "stdout",
     "output_type": "stream",
     "text": [
      "Number of missing rows in 'CodingActivities': 10971\n"
     ]
    }
   ],
   "source": [
    "# Identify missing values in 'CodingActivities' column\n",
    "missing_coding_activities = df['CodingActivities'].isnull().sum()\n",
    "\n",
    "# Display result\n",
    "print(f\"Number of missing rows in 'CodingActivities': {missing_coding_activities}\")\n"
   ]
  },
  {
   "cell_type": "code",
   "execution_count": null,
   "id": "0228cda4-8bbf-48fe-b9b0-8ec9ccb608cd",
   "metadata": {},
   "outputs": [],
   "source": [
    "Task 3: Impute missing values in CodingActivities with forward-fill."
   ]
  },
  {
   "cell_type": "code",
   "execution_count": 9,
   "id": "2b6e9f2a-e166-427a-9947-7e509fb8aada",
   "metadata": {},
   "outputs": [
    {
     "name": "stdout",
     "output_type": "stream",
     "text": [
      "Number of missing rows in 'CodingActivities' after forward-fill: 0\n"
     ]
    }
   ],
   "source": [
    "# Impute missing values in 'CodingActivities' with forward-fill\n",
    "# Forward-fill without warning (future-proof)\n",
    "df['CodingActivities'] = df['CodingActivities'].ffill()\n",
    "\n",
    "# Verify if any missing values remain\n",
    "missing_after_ffill = df['CodingActivities'].isnull().sum()\n",
    "print(f\"Number of missing rows in 'CodingActivities' after forward-fill: {missing_after_ffill}\")\n"
   ]
  },
  {
   "cell_type": "code",
   "execution_count": null,
   "id": "77aa80b0-73b5-406a-bf4b-5a52c77f47ec",
   "metadata": {},
   "outputs": [],
   "source": [
    "Section 3: Normalizing Compensation Data\n",
    "Task 4: Identify compensation-related columns, such as ConvertedCompYearly."
   ]
  },
  {
   "cell_type": "code",
   "execution_count": 8,
   "id": "42220df8-eeab-4bbc-9977-f4f257016845",
   "metadata": {},
   "outputs": [
    {
     "name": "stdout",
     "output_type": "stream",
     "text": [
      "Compensation-related columns found: []\n"
     ]
    }
   ],
   "source": [
    "# Define compensation-related keywords\n",
    "comp_keywords = ['compensation', 'salary', 'pay', 'income', 'wage']\n",
    "\n",
    "# Find columns that match any of the keywords\n",
    "comp_columns = [col for col in df.columns if any(keyword.lower() in col.lower() for keyword in comp_keywords)]\n",
    "\n",
    "# Display the compensation-related columns\n",
    "print(f\"Compensation-related columns found: {comp_columns}\")\n"
   ]
  },
  {
   "cell_type": "code",
   "execution_count": null,
   "id": "315e93f6-302b-4d8f-8d71-c7eaaa024548",
   "metadata": {},
   "outputs": [],
   "source": [
    "Task 5: Normalize ConvertedCompYearly using Min-Max Scaling."
   ]
  },
  {
   "cell_type": "code",
   "execution_count": 12,
   "id": "d085147c-940f-4606-8b25-7fd9dd2664d0",
   "metadata": {},
   "outputs": [
    {
     "name": "stdout",
     "output_type": "stream",
     "text": [
      "Number of non-missing values in ConvertedCompYearly: 23435\n"
     ]
    }
   ],
   "source": [
    "# How many non-missing values in ConvertedCompYearly?\n",
    "valid_values_count = df['ConvertedCompYearly'].notnull().sum()\n",
    "print(f\"Number of non-missing values in ConvertedCompYearly: {valid_values_count}\")\n"
   ]
  },
  {
   "cell_type": "code",
   "execution_count": 19,
   "id": "d9a45fe8-4cf3-421d-8d77-aeedf2e19e64",
   "metadata": {},
   "outputs": [
    {
     "name": "stdout",
     "output_type": "stream",
     "text": [
      "     ConvertedCompYearly  ConvertedCompYearly_Normalized\n",
      "72                7322.0                        0.000450\n",
      "374              30074.0                        0.001850\n",
      "379              91295.0                        0.005616\n",
      "385              53703.0                        0.003303\n",
      "389             110000.0                        0.006766\n"
     ]
    }
   ],
   "source": [
    "# Check that 'ConvertedCompYearly' exists\n",
    "# Min-Max Scaling\n",
    "min_value = df['ConvertedCompYearly'].min()\n",
    "max_value = df['ConvertedCompYearly'].max()\n",
    "\n",
    "df['ConvertedCompYearly_Normalized'] = (df['ConvertedCompYearly'] - min_value) / (max_value - min_value)\n",
    "\n",
    "# Display only rows where ConvertedCompYearly is not NaN\n",
    "print(df[df['ConvertedCompYearly'].notnull()][['ConvertedCompYearly', 'ConvertedCompYearly_Normalized']].head())\n"
   ]
  },
  {
   "cell_type": "code",
   "execution_count": null,
   "id": "1d0cccbb-a0d0-46f6-97a4-f168d1fde8c4",
   "metadata": {},
   "outputs": [],
   "source": [
    "Task 6: Apply Z-score Normalization to ConvertedCompYearly"
   ]
  },
  {
   "cell_type": "code",
   "execution_count": 21,
   "id": "3c7d9983-cf82-4786-bc34-0ae2d57f70bc",
   "metadata": {},
   "outputs": [
    {
     "name": "stdout",
     "output_type": "stream",
     "text": [
      "     ConvertedCompYearly  ConvertedCompYearly_Zscore\n",
      "72                7322.0                   -0.422117\n",
      "374              30074.0                   -0.300290\n",
      "379              91295.0                    0.027521\n",
      "385              53703.0                   -0.173767\n",
      "389             110000.0                    0.127678\n"
     ]
    }
   ],
   "source": [
    "# Task 6: Apply Z-score Normalization to ConvertedCompYearly\n",
    "\n",
    "# Z-score Normalization\n",
    "mean_value = df['ConvertedCompYearly'].mean()\n",
    "std_value = df['ConvertedCompYearly'].std()\n",
    "\n",
    "df['ConvertedCompYearly_Zscore'] = (df['ConvertedCompYearly'] - mean_value) / std_value\n",
    "\n",
    "# Display only rows where ConvertedCompYearly is not NaN\n",
    "print(df[df['ConvertedCompYearly'].notnull()][['ConvertedCompYearly', 'ConvertedCompYearly_Zscore']].head())\n"
   ]
  },
  {
   "cell_type": "code",
   "execution_count": null,
   "id": "11cc1ee9-52f8-426e-bbba-3014c4f6687f",
   "metadata": {},
   "outputs": [],
   "source": [
    "Section 4: Visualization of Normalized Data\n",
    "Task 7: Visualize the distribution of ConvertedCompYearly, ConvertedCompYearly_Normalized, and ConvertedCompYearly_Zscore"
   ]
  },
  {
   "cell_type": "code",
   "execution_count": 26,
   "id": "3ad85f79-b64c-46a0-943c-9caa82ee7b83",
   "metadata": {},
   "outputs": [
    {
     "data": {
      "image/png": "[encoded data removed]",
      "text/plain": [
       "<Figure size 1800x500 with 3 Axes>"
      ]
     },
     "metadata": {},
     "output_type": "display_data"
    }
   ],
   "source": [
    "import matplotlib.pyplot as plt\n",
    "\n",
    "# Step 1: Create valid_df (only rows with valid ConvertedCompYearly)\n",
    "valid_df = df[df['ConvertedCompYearly'].notnull()]\n",
    "\n",
    "# Step 2: Set up the figure and axes (3 side-by-side plots)\n",
    "fig, axes = plt.subplots(1, 3, figsize=(18, 5))\n",
    "\n",
    "# Step 3: Plot Original ConvertedCompYearly\n",
    "axes[0].hist(valid_df['ConvertedCompYearly'], bins=50, color='skyblue', edgecolor='black')\n",
    "axes[0].set_title('Original ConvertedCompYearly')\n",
    "axes[0].set_xlabel('ConvertedCompYearly')\n",
    "axes[0].set_ylabel('Frequency')\n",
    "\n",
    "# Step 4: Plot Min-Max Normalized ConvertedCompYearly\n",
    "axes[1].hist(valid_df['ConvertedCompYearly_Normalized'], bins=50, color='lightgreen', edgecolor='black')\n",
    "axes[1].set_title('Min-Max Normalized ConvertedCompYearly')\n",
    "axes[1].set_xlabel('ConvertedCompYearly_Normalized')\n",
    "axes[1].set_ylabel('Frequency')\n",
    "\n",
    "# Step 5: Plot Z-score Normalized ConvertedCompYearly\n",
    "axes[2].hist(valid_df['ConvertedCompYearly_Zscore'], bins=50, color='salmon', edgecolor='black')\n",
    "axes[2].set_title('Z-score Normalized ConvertedCompYearly')\n",
    "axes[2].set_xlabel('ConvertedCompYearly_Zscore')\n",
    "axes[2].set_ylabel('Frequency')\n",
    "\n",
    "# Step 6: Adjust layout\n",
    "plt.tight_layout()\n",
    "plt.show()\n"
   ]
  },
  {
   "cell_type": "code",
   "execution_count": null,
   "id": "bc2cb3c5-7787-458d-a5f4-7c4769291345",
   "metadata": {},
   "outputs": [],
   "source": []
  },
  {
   "cell_type": "code",
   "execution_count": null,
   "id": "5ff6b621-6b2f-4ce5-8b74-e99d94f35369",
   "metadata": {},
   "outputs": [],
   "source": []
  }
 ],
 "metadata": {
  "kernelspec": {
   "display_name": "Python [conda env:base] *",
   "language": "python",
   "name": "conda-base-py"
  },
  "language_info": {
   "codemirror_mode": {
    "name": "ipython",
    "version": 3
   },
   "file_extension": ".py",
   "mimetype": "text/x-python",
   "name": "python",
   "nbconvert_exporter": "python",
   "pygments_lexer": "ipython3",
   "version": "3.12.3"
  }
 },
 "nbformat": 4,
 "nbformat_minor": 5
}
