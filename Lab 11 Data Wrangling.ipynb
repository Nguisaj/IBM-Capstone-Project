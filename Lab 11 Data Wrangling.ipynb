{
 "cells": [
  {
   "cell_type": "code",
   "execution_count": null,
   "id": "b8cb1489-5591-461c-8a37-97be9ac98d56",
   "metadata": {},
   "outputs": [],
   "source": [
    "Data Wrangling\n",
    "\n",
    "Objectives:\n",
    "\n",
    "Identify and remove inconsistent data entries.\n",
    "\n",
    "Encode categorical variables for analysis.\n",
    "\n",
    "Handle missing values using multiple imputation strategies.\n",
    "\n",
    "Apply feature scaling and transformation techniques."
   ]
  },
  {
   "cell_type": "code",
   "execution_count": 1,
   "id": "25c0af30-5038-4819-8507-002592338105",
   "metadata": {},
   "outputs": [
    {
     "name": "stdout",
     "output_type": "stream",
     "text": [
      "Requirement already satisfied: pandas in c:\\users\\nguif\\anaconda3\\lib\\site-packages (2.2.3)\n",
      "Requirement already satisfied: numpy>=1.26.0 in c:\\users\\nguif\\anaconda3\\lib\\site-packages (from pandas) (1.26.4)\n",
      "Requirement already satisfied: python-dateutil>=2.8.2 in c:\\users\\nguif\\anaconda3\\lib\\site-packages (from pandas) (2.9.0.post0)\n",
      "Requirement already satisfied: pytz>=2020.1 in c:\\users\\nguif\\anaconda3\\lib\\site-packages (from pandas) (2024.1)\n",
      "Requirement already satisfied: tzdata>=2022.7 in c:\\users\\nguif\\anaconda3\\lib\\site-packages (from pandas) (2023.3)\n",
      "Requirement already satisfied: six>=1.5 in c:\\users\\nguif\\anaconda3\\lib\\site-packages (from python-dateutil>=2.8.2->pandas) (1.16.0)\n",
      "Requirement already satisfied: matplotlib in c:\\users\\nguif\\anaconda3\\lib\\site-packages (3.9.2)\n",
      "Requirement already satisfied: contourpy>=1.0.1 in c:\\users\\nguif\\anaconda3\\lib\\site-packages (from matplotlib) (1.2.0)\n",
      "Requirement already satisfied: cycler>=0.10 in c:\\users\\nguif\\anaconda3\\lib\\site-packages (from matplotlib) (0.11.0)\n",
      "Requirement already satisfied: fonttools>=4.22.0 in c:\\users\\nguif\\anaconda3\\lib\\site-packages (from matplotlib) (4.51.0)\n",
      "Requirement already satisfied: kiwisolver>=1.3.1 in c:\\users\\nguif\\anaconda3\\lib\\site-packages (from matplotlib) (1.4.4)\n",
      "Requirement already satisfied: numpy>=1.23 in c:\\users\\nguif\\anaconda3\\lib\\site-packages (from matplotlib) (1.26.4)\n",
      "Requirement already satisfied: packaging>=20.0 in c:\\users\\nguif\\anaconda3\\lib\\site-packages (from matplotlib) (24.1)\n",
      "Requirement already satisfied: pillow>=8 in c:\\users\\nguif\\anaconda3\\lib\\site-packages (from matplotlib) (10.4.0)\n",
      "Requirement already satisfied: pyparsing>=2.3.1 in c:\\users\\nguif\\anaconda3\\lib\\site-packages (from matplotlib) (3.1.2)\n",
      "Requirement already satisfied: python-dateutil>=2.7 in c:\\users\\nguif\\anaconda3\\lib\\site-packages (from matplotlib) (2.9.0.post0)\n",
      "Requirement already satisfied: six>=1.5 in c:\\users\\nguif\\anaconda3\\lib\\site-packages (from python-dateutil>=2.7->matplotlib) (1.16.0)\n"
     ]
    }
   ],
   "source": [
    "!pip install pandas\n",
    "!pip install matplotlib"
   ]
  },
  {
   "cell_type": "code",
   "execution_count": null,
   "id": "646b2fd4-c4bf-46cc-a95d-1e7750df3dda",
   "metadata": {},
   "outputs": [],
   "source": [
    "Load the Dataset"
   ]
  },
  {
   "cell_type": "code",
   "execution_count": 2,
   "id": "e79522c0-deea-4ed0-aaee-c1de8d5dc850",
   "metadata": {},
   "outputs": [
    {
     "name": "stdout",
     "output_type": "stream",
     "text": [
      "   ResponseId                      MainBranch                 Age  \\\n",
      "0           1  I am a developer by profession  Under 18 years old   \n",
      "1           2  I am a developer by profession     35-44 years old   \n",
      "2           3  I am a developer by profession     45-54 years old   \n",
      "3           4           I am learning to code     18-24 years old   \n",
      "4           5  I am a developer by profession     18-24 years old   \n",
      "\n",
      "            Employment RemoteWork   Check  \\\n",
      "0  Employed, full-time     Remote  Apples   \n",
      "1  Employed, full-time     Remote  Apples   \n",
      "2  Employed, full-time     Remote  Apples   \n",
      "3   Student, full-time        NaN  Apples   \n",
      "4   Student, full-time        NaN  Apples   \n",
      "\n",
      "                                    CodingActivities  \\\n",
      "0                                              Hobby   \n",
      "1  Hobby;Contribute to open-source projects;Other...   \n",
      "2  Hobby;Contribute to open-source projects;Other...   \n",
      "3                                                NaN   \n",
      "4                                                NaN   \n",
      "\n",
      "                                             EdLevel  \\\n",
      "0                          Primary/elementary school   \n",
      "1       Bachelor’s degree (B.A., B.S., B.Eng., etc.)   \n",
      "2    Master’s degree (M.A., M.S., M.Eng., MBA, etc.)   \n",
      "3  Some college/university study without earning ...   \n",
      "4  Secondary school (e.g. American high school, G...   \n",
      "\n",
      "                                           LearnCode  \\\n",
      "0                             Books / Physical media   \n",
      "1  Books / Physical media;Colleague;On the job tr...   \n",
      "2  Books / Physical media;Colleague;On the job tr...   \n",
      "3  Other online resources (e.g., videos, blogs, f...   \n",
      "4  Other online resources (e.g., videos, blogs, f...   \n",
      "\n",
      "                                     LearnCodeOnline  ... JobSatPoints_6  \\\n",
      "0                                                NaN  ...            NaN   \n",
      "1  Technical documentation;Blogs;Books;Written Tu...  ...            0.0   \n",
      "2  Technical documentation;Blogs;Books;Written Tu...  ...            NaN   \n",
      "3  Stack Overflow;How-to videos;Interactive tutorial  ...            NaN   \n",
      "4  Technical documentation;Blogs;Written Tutorial...  ...            NaN   \n",
      "\n",
      "  JobSatPoints_7 JobSatPoints_8 JobSatPoints_9 JobSatPoints_10  \\\n",
      "0            NaN            NaN            NaN             NaN   \n",
      "1            0.0            0.0            0.0             0.0   \n",
      "2            NaN            NaN            NaN             NaN   \n",
      "3            NaN            NaN            NaN             NaN   \n",
      "4            NaN            NaN            NaN             NaN   \n",
      "\n",
      "  JobSatPoints_11           SurveyLength SurveyEase ConvertedCompYearly JobSat  \n",
      "0             NaN                    NaN        NaN                 NaN    NaN  \n",
      "1             0.0                    NaN        NaN                 NaN    NaN  \n",
      "2             NaN  Appropriate in length       Easy                 NaN    NaN  \n",
      "3             NaN               Too long       Easy                 NaN    NaN  \n",
      "4             NaN              Too short       Easy                 NaN    NaN  \n",
      "\n",
      "[5 rows x 114 columns]\n"
     ]
    }
   ],
   "source": [
    "# Import necessary libraries\n",
    "import pandas as pd\n",
    "\n",
    "# Load the Stack Overflow survey data\n",
    "dataset_url = \"https://cf-courses-data.s3.us.cloud-object-storage.appdomain.cloud/n01PQ9pSmiRX6520flujwQ/survey-data.csv\"\n",
    "df = pd.read_csv(dataset_url)\n",
    "\n",
    "# Display the first few rows\n",
    "print(df.head())"
   ]
  },
  {
   "cell_type": "code",
   "execution_count": null,
   "id": "21527e03-c0b5-4b46-92f6-63bf393763e2",
   "metadata": {},
   "outputs": [],
   "source": [
    "2. Explore the Dataset\n",
    "2.1 Summarize the dataset by displaying the column data types, counts, and missing values."
   ]
  },
  {
   "cell_type": "code",
   "execution_count": null,
   "id": "d046694c-e302-4b66-99dc-4fe8dd8e9de5",
   "metadata": {},
   "outputs": [],
   "source": [
    "# Load dataset\n",
    "df = pd.read_csv(dataset_url)\n",
    "\n",
    "# Step 2: Display column data types and non-null counts\n",
    "print(\"Basic Information (data types and non-null counts):\\n\")\n",
    "df.info()\n",
    "\n",
    "# Step 3: Display missing values per column\n",
    "missing_values = df.isnull().sum()\n",
    "missing_values = missing_values[missing_values > 0]  # Show only columns with missing values\n",
    "\n",
    "print(\"\\nMissing Values per Column:\\n\")\n",
    "print(missing_values)"
   ]
  },
  {
   "cell_type": "code",
   "execution_count": null,
   "id": "156b5794-654f-4872-b911-7ab6f91fd453",
   "metadata": {},
   "outputs": [],
   "source": [
    "2.2 Generate basic statistics for numerical columns"
   ]
  },
  {
   "cell_type": "code",
   "execution_count": 5,
   "id": "ec7b45af-1436-41e2-9c76-eb8223c9f150",
   "metadata": {},
   "outputs": [
    {
     "name": "stdout",
     "output_type": "stream",
     "text": [
      "Basic Statistics for Numerical Columns:\n",
      "\n",
      "         ResponseId      CompTotal       WorkExp  JobSatPoints_1  \\\n",
      "count  65437.000000   3.374000e+04  29658.000000    29324.000000   \n",
      "mean   32719.000000  2.963841e+145     11.466957       18.581094   \n",
      "std    18890.179119  5.444117e+147      9.168709       25.966221   \n",
      "min        1.000000   0.000000e+00      0.000000        0.000000   \n",
      "25%    16360.000000   6.000000e+04      4.000000        0.000000   \n",
      "50%    32719.000000   1.100000e+05      9.000000       10.000000   \n",
      "75%    49078.000000   2.500000e+05     16.000000       22.000000   \n",
      "max    65437.000000  1.000000e+150     50.000000      100.000000   \n",
      "\n",
      "       JobSatPoints_4  JobSatPoints_5  JobSatPoints_6  JobSatPoints_7  \\\n",
      "count    29393.000000    29411.000000    29450.000000     29448.00000   \n",
      "mean         7.522140       10.060857       24.343232        22.96522   \n",
      "std         18.422661       21.833836       27.089360        27.01774   \n",
      "min          0.000000        0.000000        0.000000         0.00000   \n",
      "25%          0.000000        0.000000        0.000000         0.00000   \n",
      "50%          0.000000        0.000000       20.000000        15.00000   \n",
      "75%          5.000000       10.000000       30.000000        30.00000   \n",
      "max        100.000000      100.000000      100.000000       100.00000   \n",
      "\n",
      "       JobSatPoints_8  JobSatPoints_9  JobSatPoints_10  JobSatPoints_11  \\\n",
      "count    29456.000000    29456.000000     29450.000000     29445.000000   \n",
      "mean        20.278165       16.169432        10.955713         9.953948   \n",
      "std         26.108110       24.845032        22.906263        21.775652   \n",
      "min          0.000000        0.000000         0.000000         0.000000   \n",
      "25%          0.000000        0.000000         0.000000         0.000000   \n",
      "50%         10.000000        5.000000         0.000000         0.000000   \n",
      "75%         25.000000       20.000000        10.000000        10.000000   \n",
      "max        100.000000      100.000000       100.000000       100.000000   \n",
      "\n",
      "       ConvertedCompYearly        JobSat  \n",
      "count         2.343500e+04  29126.000000  \n",
      "mean          8.615529e+04      6.935041  \n",
      "std           1.867570e+05      2.088259  \n",
      "min           1.000000e+00      0.000000  \n",
      "25%           3.271200e+04      6.000000  \n",
      "50%           6.500000e+04      7.000000  \n",
      "75%           1.079715e+05      8.000000  \n",
      "max           1.625660e+07     10.000000  \n"
     ]
    }
   ],
   "source": [
    "# Generate basic statistics for numerical columns\n",
    "print(\"Basic Statistics for Numerical Columns:\\n\")\n",
    "print(df.describe())\n"
   ]
  },
  {
   "cell_type": "code",
   "execution_count": null,
   "id": "9aebde1d-6058-4302-9873-5acfb7d66f19",
   "metadata": {},
   "outputs": [],
   "source": [
    "3. Identifying and Removing Inconsistencies\n",
    "3.1 Identify inconsistent or irrelevant entries in specific columns (e.g., Country).\n"
   ]
  },
  {
   "cell_type": "code",
   "execution_count": 6,
   "id": "d060b9ad-2e97-4b89-8539-f1edbfae0ff1",
   "metadata": {},
   "outputs": [
    {
     "name": "stdout",
     "output_type": "stream",
     "text": [
      "Unique values in 'Country':\n",
      "\n",
      "['United States of America'\n",
      " 'United Kingdom of Great Britain and Northern Ireland' 'Canada' 'Norway'\n",
      " 'Uzbekistan' 'Serbia' 'Poland' 'Philippines' 'Bulgaria' 'Switzerland'\n",
      " 'India' 'Germany' 'Ireland' 'Italy' 'Ukraine' 'Australia' 'Brazil'\n",
      " 'Japan' 'Austria' 'Iran, Islamic Republic of...' 'France' 'Saudi Arabia'\n",
      " 'Romania' 'Turkey' 'Nepal' 'Algeria' 'Sweden' 'Netherlands' 'Croatia'\n",
      " 'Pakistan' 'Czech Republic' 'Republic of North Macedonia' 'Finland'\n",
      " 'Slovakia' 'Russian Federation' 'Greece' 'Israel' 'Belgium' 'Mexico'\n",
      " 'United Republic of Tanzania' 'Hungary' 'Argentina' 'Portugal'\n",
      " 'Sri Lanka' 'Latvia' 'China' 'Singapore' 'Lebanon' 'Spain' 'South Africa']\n",
      "\n",
      "Number of unique values in 'Country': 185\n"
     ]
    }
   ],
   "source": [
    "# Step 1: Check unique values in 'Country' column\n",
    "unique_countries = df['Country'].unique()\n",
    "\n",
    "# Step 2: Display the unique values (first 50 for readability)\n",
    "print(\"Unique values in 'Country':\\n\")\n",
    "print(unique_countries[:50])  # show first 50 values for a quick scan\n",
    "\n",
    "# Step 3: Optional — check how many unique values\n",
    "print(f\"\\nNumber of unique values in 'Country': {df['Country'].nunique()}\")\n"
   ]
  },
  {
   "cell_type": "code",
   "execution_count": null,
   "id": "e4b14bf2-c444-4ee9-ac41-5cd6846a28a7",
   "metadata": {},
   "outputs": [],
   "source": [
    "3.2 Standardize entries in columns like Country or EdLevel by mapping inconsistent values to a consistent format.\n"
   ]
  },
  {
   "cell_type": "code",
   "execution_count": null,
   "id": "ea5321a9-2330-4e9e-9261-ed95b94a509b",
   "metadata": {},
   "outputs": [],
   "source": [
    "Standardize Country"
   ]
  },
  {
   "cell_type": "code",
   "execution_count": 7,
   "id": "a262113c-6145-4a87-8e10-86151d240e97",
   "metadata": {},
   "outputs": [
    {
     "name": "stdout",
     "output_type": "stream",
     "text": [
      "\n",
      "Unique values in 'Country' after standardization:\n",
      "\n",
      "['United States' 'United Kingdom Of Great Britain And Northern Ireland'\n",
      " 'Canada' 'Norway' 'Uzbekistan' 'Serbia' 'Poland' 'Philippines' 'Bulgaria'\n",
      " 'Switzerland' 'India' 'Germany' 'Ireland' 'Italy' 'Ukraine' 'Australia'\n",
      " 'Brazil' 'Japan' 'Austria' 'Iran, Islamic Republic Of...' 'France'\n",
      " 'Saudi Arabia' 'Romania' 'Turkey' 'Nepal' 'Algeria' 'Sweden'\n",
      " 'Netherlands' 'Croatia' 'Pakistan' 'Czech Republic'\n",
      " 'Republic Of North Macedonia' 'Finland' 'Slovakia' 'Russian Federation'\n",
      " 'Greece' 'Israel' 'Belgium' 'Mexico' 'United Republic Of Tanzania'\n",
      " 'Hungary' 'Argentina' 'Portugal' 'Sri Lanka' 'Latvia' 'China' 'Singapore'\n",
      " 'Lebanon' 'Spain' 'South Africa' 'Lithuania' 'Viet Nam'\n",
      " 'Dominican Republic' 'Indonesia' 'Kosovo' 'Morocco' 'Taiwan' 'Georgia'\n",
      " 'San Marino' 'Tunisia' 'Bangladesh' 'Nigeria' 'Liechtenstein' 'Denmark'\n",
      " 'Ecuador' 'Malaysia' 'Albania' 'Azerbaijan' 'Chile' 'Ghana' 'Peru'\n",
      " 'Bolivia' 'Egypt' 'Luxembourg' 'Montenegro' 'Cyprus' 'Paraguay'\n",
      " 'Kazakhstan' 'Slovenia' 'Jordan' 'Venezuela, Bolivarian Republic Of...'\n",
      " 'Costa Rica' 'Jamaica' 'Thailand' 'Nicaragua' 'Myanmar'\n",
      " 'Republic Of Korea' 'Rwanda' 'Bosnia And Herzegovina' 'Benin'\n",
      " 'El Salvador' 'Zimbabwe' 'Afghanistan' 'Estonia' 'Malta' 'Uruguay'\n",
      " 'Belarus' 'Colombia' 'Republic Of Moldova' 'Isle Of Man' 'Nomadic'\n",
      " 'New Zealand' 'Palestine' 'Armenia' 'United Arab Emirates' 'Maldives'\n",
      " 'Ethiopia' 'Fiji' 'Guatemala' 'Uganda' 'Turkmenistan' 'Mauritius' 'Kenya'\n",
      " 'Cuba' 'Gabon' 'Bahamas' 'South Korea' 'Iceland' 'Honduras'\n",
      " 'Hong Kong (S.A.R.)' \"Lao People'S Democratic Republic\" 'Mongolia'\n",
      " 'Cambodia' 'Madagascar' 'Angola' 'Democratic Republic Of The Congo'\n",
      " 'Syrian Arab Republic' 'Iraq' 'Namibia' 'Senegal' 'Kyrgyzstan' 'Zambia'\n",
      " 'Swaziland' \"Côte D'Ivoire\" 'Kuwait' 'Tajikistan' 'Burundi'\n",
      " 'Trinidad And Tobago' 'Mauritania' 'Sierra Leone' 'Panama' 'Somalia'\n",
      " 'North Korea' 'Dominica' 'Guyana' 'Togo' 'Oman' 'Barbados' 'Andorra'\n",
      " \"Democratic People'S Republic Of Korea\" 'Qatar' 'Sudan' 'Cameroon'\n",
      " 'Papua New Guinea' 'Bahrain' 'Yemen' 'Malawi' 'Burkina Faso'\n",
      " 'Congo, Republic Of The...' 'Botswana' 'Guinea-Bissau' 'Mozambique'\n",
      " 'Central African Republic' 'Equatorial Guinea' 'Suriname' 'Belize'\n",
      " 'Libyan Arab Jamahiriya' 'Cape Verde' 'Brunei Darussalam' 'Bhutan'\n",
      " 'Guinea' 'Niger' 'Antigua And Barbuda' 'Mali' 'Samoa' 'Lesotho'\n",
      " 'Saint Kitts And Nevis' 'Monaco' 'Micronesia, Federated States Of...'\n",
      " 'Haiti' nan 'Nauru' 'Liberia' 'Chad' 'Djibouti' 'Solomon Islands']\n"
     ]
    }
   ],
   "source": [
    "# Step 1: Define mapping for known inconsistencies\n",
    "country_mapping = {\n",
    "    'USA': 'United States',\n",
    "    'US': 'United States',\n",
    "    'U.S.': 'United States',\n",
    "    'United States of America': 'United States',\n",
    "    'UK': 'United Kingdom',\n",
    "    'U.K.': 'United Kingdom',\n",
    "    'England': 'United Kingdom',\n",
    "    'Scotland': 'United Kingdom',\n",
    "    'Deutschland': 'Germany',\n",
    "    'España': 'Spain',\n",
    "    'N/A': None,\n",
    "    'Earth': None,\n",
    "    '123': None,\n",
    "    '': None\n",
    "}\n",
    "\n",
    "# Step 2: Apply mapping to 'Country' column\n",
    "df['Country'] = df['Country'].replace(country_mapping)\n",
    "\n",
    "# Optional: Strip whitespace and capitalize consistently\n",
    "df['Country'] = df['Country'].str.strip().str.title()\n",
    "\n",
    "# Step 3: Verify result\n",
    "print(\"\\nUnique values in 'Country' after standardization:\\n\")\n",
    "print(df['Country'].unique())\n"
   ]
  },
  {
   "cell_type": "code",
   "execution_count": null,
   "id": "42b8354c-c41a-41be-b0d4-38b2b9cc1975",
   "metadata": {},
   "outputs": [],
   "source": [
    "Standardize EdLevel"
   ]
  },
  {
   "cell_type": "code",
   "execution_count": 8,
   "id": "51106987-9f40-44d6-80d5-628233475197",
   "metadata": {},
   "outputs": [
    {
     "name": "stdout",
     "output_type": "stream",
     "text": [
      "\n",
      "Unique values in 'EdLevel' after standardization:\n",
      "\n",
      "['Primary/elementary school' 'Bachelor’s degree' 'Master’s degree'\n",
      " 'Some college'\n",
      " 'Secondary school (e.g. American high school, German Realschule or Gymnasium, etc.)'\n",
      " 'Professional degree (JD, MD, Ph.D, Ed.D, etc.)' 'Associate degree'\n",
      " 'Something else' nan]\n"
     ]
    }
   ],
   "source": [
    "# Step 1: Define mapping for EdLevel inconsistencies\n",
    "edlevel_mapping = {\n",
    "    'Bachelor’s degree (B.A., B.S., B.Eng., etc.)': 'Bachelor’s degree',\n",
    "    'Master’s degree (M.A., M.S., M.Eng., MBA, etc.)': 'Master’s degree',\n",
    "    'Some college/university study without earning a degree': 'Some college',\n",
    "    'Associate degree (A.A., A.S., etc.)': 'Associate degree',\n",
    "    'Professional degree (JD, MD, etc.)': 'Professional degree',\n",
    "    'N/A': None,\n",
    "    '': None\n",
    "}\n",
    "\n",
    "# Step 2: Apply mapping to 'EdLevel' column\n",
    "df['EdLevel'] = df['EdLevel'].replace(edlevel_mapping)\n",
    "\n",
    "# Step 3: Verify result\n",
    "print(\"\\nUnique values in 'EdLevel' after standardization:\\n\")\n",
    "print(df['EdLevel'].unique())\n"
   ]
  },
  {
   "cell_type": "code",
   "execution_count": null,
   "id": "33b25f52-5b46-4f9a-afdc-c19f4a8ce3a0",
   "metadata": {},
   "outputs": [],
   "source": [
    "\n",
    "4. Encoding Categorical Variables\n",
    "\n",
    "4.1 Encode the Employment column using one-hot encoding."
   ]
  },
  {
   "cell_type": "code",
   "execution_count": 9,
   "id": "6750e217-0ba9-45df-b451-21b833e472e7",
   "metadata": {},
   "outputs": [
    {
     "name": "stdout",
     "output_type": "stream",
     "text": [
      "\n",
      "One-hot encoded 'Employment' columns:\n",
      "\n",
      "   Employment_Employed, full-time  \\\n",
      "0                            True   \n",
      "1                            True   \n",
      "2                            True   \n",
      "3                           False   \n",
      "4                           False   \n",
      "\n",
      "   Employment_Employed, full-time;Employed, part-time  \\\n",
      "0                                              False    \n",
      "1                                              False    \n",
      "2                                              False    \n",
      "3                                              False    \n",
      "4                                              False    \n",
      "\n",
      "   Employment_Employed, full-time;Independent contractor, freelancer, or self-employed  \\\n",
      "0                                              False                                     \n",
      "1                                              False                                     \n",
      "2                                              False                                     \n",
      "3                                              False                                     \n",
      "4                                              False                                     \n",
      "\n",
      "   Employment_Employed, full-time;Independent contractor, freelancer, or self-employed;Employed, part-time  \\\n",
      "0                                              False                                                         \n",
      "1                                              False                                                         \n",
      "2                                              False                                                         \n",
      "3                                              False                                                         \n",
      "4                                              False                                                         \n",
      "\n",
      "   Employment_Employed, full-time;Independent contractor, freelancer, or self-employed;Employed, part-time;Retired  \\\n",
      "0                                              False                                                                 \n",
      "1                                              False                                                                 \n",
      "2                                              False                                                                 \n",
      "3                                              False                                                                 \n",
      "4                                              False                                                                 \n",
      "\n",
      "   Employment_Employed, full-time;Independent contractor, freelancer, or self-employed;Not employed, and not looking for work  \\\n",
      "0                                              False                                                                            \n",
      "1                                              False                                                                            \n",
      "2                                              False                                                                            \n",
      "3                                              False                                                                            \n",
      "4                                              False                                                                            \n",
      "\n",
      "   Employment_Employed, full-time;Independent contractor, freelancer, or self-employed;Not employed, and not looking for work;Employed, part-time  \\\n",
      "0                                              False                                                                                                \n",
      "1                                              False                                                                                                \n",
      "2                                              False                                                                                                \n",
      "3                                              False                                                                                                \n",
      "4                                              False                                                                                                \n",
      "\n",
      "   Employment_Employed, full-time;Independent contractor, freelancer, or self-employed;Not employed, and not looking for work;Student, part-time  \\\n",
      "0                                              False                                                                                               \n",
      "1                                              False                                                                                               \n",
      "2                                              False                                                                                               \n",
      "3                                              False                                                                                               \n",
      "4                                              False                                                                                               \n",
      "\n",
      "   Employment_Employed, full-time;Independent contractor, freelancer, or self-employed;Retired  \\\n",
      "0                                              False                                             \n",
      "1                                              False                                             \n",
      "2                                              False                                             \n",
      "3                                              False                                             \n",
      "4                                              False                                             \n",
      "\n",
      "   Employment_Employed, full-time;Independent contractor, freelancer, or self-employed;Student, part-time  \\\n",
      "0                                              False                                                        \n",
      "1                                              False                                                        \n",
      "2                                              False                                                        \n",
      "3                                              False                                                        \n",
      "4                                              False                                                        \n",
      "\n",
      "   ...  \\\n",
      "0  ...   \n",
      "1  ...   \n",
      "2  ...   \n",
      "3  ...   \n",
      "4  ...   \n",
      "\n",
      "   Employment_Student, full-time;Not employed, but looking for work;Not employed, and not looking for work;Student, part-time  \\\n",
      "0                                              False                                                                            \n",
      "1                                              False                                                                            \n",
      "2                                              False                                                                            \n",
      "3                                              False                                                                            \n",
      "4                                              False                                                                            \n",
      "\n",
      "   Employment_Student, full-time;Not employed, but looking for work;Retired  \\\n",
      "0                                              False                          \n",
      "1                                              False                          \n",
      "2                                              False                          \n",
      "3                                              False                          \n",
      "4                                              False                          \n",
      "\n",
      "   Employment_Student, full-time;Not employed, but looking for work;Student, part-time  \\\n",
      "0                                              False                                     \n",
      "1                                              False                                     \n",
      "2                                              False                                     \n",
      "3                                              False                                     \n",
      "4                                              False                                     \n",
      "\n",
      "   Employment_Student, full-time;Retired  \\\n",
      "0                                  False   \n",
      "1                                  False   \n",
      "2                                  False   \n",
      "3                                  False   \n",
      "4                                  False   \n",
      "\n",
      "   Employment_Student, full-time;Student, part-time  \\\n",
      "0                                             False   \n",
      "1                                             False   \n",
      "2                                             False   \n",
      "3                                             False   \n",
      "4                                             False   \n",
      "\n",
      "   Employment_Student, full-time;Student, part-time;Employed, part-time  \\\n",
      "0                                              False                      \n",
      "1                                              False                      \n",
      "2                                              False                      \n",
      "3                                              False                      \n",
      "4                                              False                      \n",
      "\n",
      "   Employment_Student, full-time;Student, part-time;Retired  \\\n",
      "0                                              False          \n",
      "1                                              False          \n",
      "2                                              False          \n",
      "3                                              False          \n",
      "4                                              False          \n",
      "\n",
      "   Employment_Student, part-time  \\\n",
      "0                          False   \n",
      "1                          False   \n",
      "2                          False   \n",
      "3                          False   \n",
      "4                          False   \n",
      "\n",
      "   Employment_Student, part-time;Employed, part-time  \\\n",
      "0                                              False   \n",
      "1                                              False   \n",
      "2                                              False   \n",
      "3                                              False   \n",
      "4                                              False   \n",
      "\n",
      "   Employment_Student, part-time;Retired  \n",
      "0                                  False  \n",
      "1                                  False  \n",
      "2                                  False  \n",
      "3                                  False  \n",
      "4                                  False  \n",
      "\n",
      "[5 rows x 110 columns]\n"
     ]
    }
   ],
   "source": [
    "# Step 1: One-hot encode the 'Employment' column\n",
    "employment_encoded = pd.get_dummies(df['Employment'], prefix='Employment')\n",
    "\n",
    "# Step 2: Show the first few rows of the encoded columns\n",
    "print(\"\\nOne-hot encoded 'Employment' columns:\\n\")\n",
    "print(employment_encoded.head())\n"
   ]
  },
  {
   "cell_type": "code",
   "execution_count": null,
   "id": "86cbcb0a-113a-4568-8d0d-28b58fe77896",
   "metadata": {},
   "outputs": [],
   "source": [
    "5. Handling Missing Values\n",
    "5.1 Identify columns with the highest number of missing values.\n"
   ]
  },
  {
   "cell_type": "code",
   "execution_count": 10,
   "id": "bf86971e-2e20-43d0-95c2-8be0c496e547",
   "metadata": {},
   "outputs": [
    {
     "name": "stdout",
     "output_type": "stream",
     "text": [
      "\n",
      "Columns with the highest number of missing values:\n",
      "\n",
      "AINextMuch less integrated    64289\n",
      "AINextLess integrated         63082\n",
      "AINextNo change               52939\n",
      "AINextMuch more integrated    51999\n",
      "EmbeddedAdmired               48704\n",
      "                              ...  \n",
      "YearsCode                      5568\n",
      "NEWSOSites                     5151\n",
      "LearnCode                      4949\n",
      "EdLevel                        4653\n",
      "AISelect                       4530\n",
      "Length: 109, dtype: int64\n"
     ]
    }
   ],
   "source": [
    "# Step 1: Count missing values per column\n",
    "missing_values = df.isnull().sum()\n",
    "\n",
    "# Step 2: Filter columns with at least 1 missing value\n",
    "missing_values = missing_values[missing_values > 0]\n",
    "\n",
    "# Step 3: Sort columns by number of missing values (descending order)\n",
    "missing_values = missing_values.sort_values(ascending=False)\n",
    "\n",
    "# Step 4: Display the result\n",
    "print(\"\\nColumns with the highest number of missing values:\\n\")\n",
    "print(missing_values)\n"
   ]
  },
  {
   "cell_type": "code",
   "execution_count": null,
   "id": "488617cb-3b7d-4406-b125-9b00c8999709",
   "metadata": {},
   "outputs": [],
   "source": [
    "5.2 Impute missing values in numerical columns (e.g., `ConvertedCompYearly`) with the mean or median."
   ]
  },
  {
   "cell_type": "code",
   "execution_count": 13,
   "id": "55c8c7c2-e908-4b80-815b-c70badfbb87d",
   "metadata": {},
   "outputs": [
    {
     "name": "stdout",
     "output_type": "stream",
     "text": [
      "Median of ConvertedCompYearly: 65000.0\n",
      "Missing values in ConvertedCompYearly after imputation: 0\n"
     ]
    }
   ],
   "source": [
    "# Step 1: Calculate median of ConvertedCompYearly\n",
    "median_converted_comp = df['ConvertedCompYearly'].median()\n",
    "\n",
    "print(f\"Median of ConvertedCompYearly: {median_converted_comp}\")\n",
    "\n",
    "# Step 2: Impute missing values with the median\n",
    "df['ConvertedCompYearly'] = df['ConvertedCompYearly'].fillna(median_converted_comp)\n",
    "\n",
    "# Step 3: Verify result\n",
    "missing_after = df['ConvertedCompYearly'].isnull().sum()\n",
    "print(f\"Missing values in ConvertedCompYearly after imputation: {missing_after}\")\n"
   ]
  },
  {
   "cell_type": "code",
   "execution_count": null,
   "id": "99064ac7-a5f9-4440-bdbd-0e2aace8566c",
   "metadata": {},
   "outputs": [],
   "source": [
    "5.3 Impute missing values in categorical columns (e.g., `RemoteWork`) with the most frequent value.\n"
   ]
  },
  {
   "cell_type": "code",
   "execution_count": 15,
   "id": "c099b281-c90d-4dc6-bd39-ba79d628e551",
   "metadata": {},
   "outputs": [
    {
     "name": "stdout",
     "output_type": "stream",
     "text": [
      "Most frequent value in 'RemoteWork': Hybrid (some remote, some in-person)\n",
      "Missing values in 'RemoteWork' after imputation: 0\n"
     ]
    }
   ],
   "source": [
    "# Step 1: Find the most frequent value (mode)\n",
    "mode_remote_work = df['RemoteWork'].mode()[0]\n",
    "\n",
    "print(f\"Most frequent value in 'RemoteWork': {mode_remote_work}\")\n",
    "\n",
    "# Step 2: Impute missing values with the mode\n",
    "df['RemoteWork'] = df['RemoteWork'].fillna(mode_remote_work)\n",
    "\n",
    "# Step 3: Verify result\n",
    "missing_after = df['RemoteWork'].isnull().sum()\n",
    "print(f\"Missing values in 'RemoteWork' after imputation: {missing_after}\")\n"
   ]
  },
  {
   "cell_type": "code",
   "execution_count": null,
   "id": "f567c311-c21e-4201-8161-ab78fcd67631",
   "metadata": {},
   "outputs": [],
   "source": [
    "6. Feature Scaling and Transformation\n",
    "6.1 Apply Min-Max Scaling to normalize the `ConvertedCompYearly` column.\n"
   ]
  },
  {
   "cell_type": "code",
   "execution_count": 16,
   "id": "ece823de-5491-4326-9235-723144044d5d",
   "metadata": {},
   "outputs": [
    {
     "name": "stdout",
     "output_type": "stream",
     "text": [
      "   ConvertedCompYearly  ConvertedCompYearly_Scaled\n",
      "0              65000.0                    0.003998\n",
      "1              65000.0                    0.003998\n",
      "2              65000.0                    0.003998\n",
      "3              65000.0                    0.003998\n",
      "4              65000.0                    0.003998\n"
     ]
    }
   ],
   "source": [
    "from sklearn.preprocessing import MinMaxScaler\n",
    "\n",
    "# Step 1: Create the scaler\n",
    "scaler = MinMaxScaler()\n",
    "\n",
    "# Step 2: Apply Min-Max Scaling\n",
    "df['ConvertedCompYearly_Scaled'] = scaler.fit_transform(df[['ConvertedCompYearly']])\n",
    "\n",
    "# Step 3: Verify result\n",
    "print(df[['ConvertedCompYearly', 'ConvertedCompYearly_Scaled']].head())\n"
   ]
  },
  {
   "cell_type": "code",
   "execution_count": null,
   "id": "6d622f6c-cad6-4509-8068-808ea1569913",
   "metadata": {},
   "outputs": [],
   "source": [
    "6.2 Log-transform the ConvertedCompYearly column to reduce skewness."
   ]
  },
  {
   "cell_type": "code",
   "execution_count": 17,
   "id": "2d4fa023-dc38-4ec0-9660-c312d7e86abd",
   "metadata": {},
   "outputs": [
    {
     "name": "stdout",
     "output_type": "stream",
     "text": [
      "   ConvertedCompYearly  ConvertedCompYearly_Log\n",
      "0              65000.0                11.082158\n",
      "1              65000.0                11.082158\n",
      "2              65000.0                11.082158\n",
      "3              65000.0                11.082158\n",
      "4              65000.0                11.082158\n"
     ]
    }
   ],
   "source": [
    "import numpy as np\n",
    "\n",
    "# Step 1: Apply log1p transformation (safe for zero values)\n",
    "df['ConvertedCompYearly_Log'] = np.log1p(df['ConvertedCompYearly'])\n",
    "\n",
    "# Step 2: Verify result\n",
    "print(df[['ConvertedCompYearly', 'ConvertedCompYearly_Log']].head())\n"
   ]
  },
  {
   "cell_type": "code",
   "execution_count": null,
   "id": "3ec9ae56-1713-45a8-a258-ba010491d5ff",
   "metadata": {},
   "outputs": [],
   "source": [
    "7. Feature Engineering\n",
    "7.1 Create a new column `ExperienceLevel` based on the `YearsCodePro` column:\n"
   ]
  },
  {
   "cell_type": "code",
   "execution_count": 18,
   "id": "ef228c70-a09e-4da8-96d7-04dfff86e9c8",
   "metadata": {},
   "outputs": [
    {
     "name": "stdout",
     "output_type": "stream",
     "text": [
      "ExperienceLevel\n",
      "Expert          25703\n",
      "Unknown         16733\n",
      "Advanced        12101\n",
      "Intermediate     8261\n",
      "Beginner         2639\n",
      "Name: count, dtype: int64\n"
     ]
    }
   ],
   "source": [
    "def categorize_experience(years):\n",
    "    try:\n",
    "        years = float(years)\n",
    "    except:\n",
    "        # Handle non-numeric or missing values\n",
    "        return 'Unknown'\n",
    "\n",
    "    if years <= 1:\n",
    "        return 'Beginner'\n",
    "    elif years <= 3:\n",
    "        return 'Intermediate'\n",
    "    elif years <= 7:\n",
    "        return 'Advanced'\n",
    "    elif years > 7:\n",
    "        return 'Expert'\n",
    "    else:\n",
    "        return 'Unknown'\n",
    "\n",
    "# Apply function to create new column\n",
    "df['ExperienceLevel'] = df['YearsCodePro'].apply(categorize_experience)\n",
    "\n",
    "# Show counts per category\n",
    "print(df['ExperienceLevel'].value_counts())\n"
   ]
  },
  {
   "cell_type": "code",
   "execution_count": null,
   "id": "8d910349-bc28-4aaa-bfef-e39ece087e38",
   "metadata": {},
   "outputs": [],
   "source": []
  }
 ],
 "metadata": {
  "kernelspec": {
   "display_name": "Python [conda env:base] *",
   "language": "python",
   "name": "conda-base-py"
  },
  "language_info": {
   "codemirror_mode": {
    "name": "ipython",
    "version": 3
   },
   "file_extension": ".py",
   "mimetype": "text/x-python",
   "name": "python",
   "nbconvert_exporter": "python",
   "pygments_lexer": "ipython3",
   "version": "3.12.3"
  }
 },
 "nbformat": 4,
 "nbformat_minor": 5
}
