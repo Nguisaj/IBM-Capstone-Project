{
 "cells": [
  {
   "cell_type": "code",
   "execution_count": null,
   "id": "e51472d2-a71e-4146-93d1-79719556cb3e",
   "metadata": {},
   "outputs": [],
   "source": [
    "Extract information from the given web site\n",
    "extract the data from the below web site:\n",
    "\n",
    "\n",
    "url = \"https://cf-courses-data.s3.us.cloud-object-storage.appdomain.cloud/IBM-DA0321EN-SkillsNetwork/labs/datasets/Programming_Languages.html\"\n",
    "The data needed to be scraped is the name of the programming language and average annual salary. \n",
    "\n",
    "\n",
    "Import the required libraries\n",
    "\n",
    "# Download the webpage at the url \n",
    "\n",
    "#Create a soup object \n",
    "\n",
    "#Scrape the Language name and annual average salary. \n",
    "\n",
    "#Save the scrapped data into a file named popular-languages.csv"
   ]
  },
  {
   "cell_type": "code",
   "execution_count": 1,
   "id": "d74de606-84fd-4bd5-af32-6a97653dab1c",
   "metadata": {},
   "outputs": [],
   "source": [
    "# Import the required libraries\n",
    "import requests\n",
    "from bs4 import BeautifulSoup\n",
    "import pandas as pd\n"
   ]
  },
  {
   "cell_type": "code",
   "execution_count": 2,
   "id": "0f6ddc8e-4e9e-43ba-bdd2-3fda39951c49",
   "metadata": {},
   "outputs": [],
   "source": [
    "# URL to scrape\n",
    "url = \"https://cf-courses-data.s3.us.cloud-object-storage.appdomain.cloud/IBM-DA0321EN-SkillsNetwork/labs/datasets/Programming_Languages.html\"\n"
   ]
  },
  {
   "cell_type": "code",
   "execution_count": 3,
   "id": "bb967ebc-a6a8-4913-aa4b-3090f5e1ec02",
   "metadata": {},
   "outputs": [],
   "source": [
    "# Download the webpage at the URL\n",
    "response = requests.get(url)\n",
    "html_content = response.text"
   ]
  },
  {
   "cell_type": "code",
   "execution_count": 4,
   "id": "bf9bed9e-7293-4192-a748-cd9dac57719f",
   "metadata": {},
   "outputs": [],
   "source": [
    "# Create a soup object\n",
    "soup = BeautifulSoup(html_content, \"html.parser\")"
   ]
  },
  {
   "cell_type": "code",
   "execution_count": 5,
   "id": "a0722500-56a1-45c2-a624-ec477b437387",
   "metadata": {},
   "outputs": [],
   "source": [
    "# Scrape the Language name and annual average salary\n",
    "# Inspecting the HTML structure shows that the data is in a table\n",
    "table = soup.find(\"table\")\n",
    "rows = table.find_all(\"tr\")"
   ]
  },
  {
   "cell_type": "code",
   "execution_count": 27,
   "id": "cea1baa5-da47-4ea7-b3d7-f916b7912090",
   "metadata": {},
   "outputs": [],
   "source": [
    "# Prepare lists to hold data\n",
    "languages = []\n",
    "salaries = []"
   ]
  },
  {
   "cell_type": "code",
   "execution_count": 41,
   "id": "e1bfb03f-32a7-4bab-a9fc-e6227484133f",
   "metadata": {},
   "outputs": [],
   "source": [
    "# Loop through the rows (skip the header row)\n",
    "for row in rows[1:]:\n",
    "    cols = row.find_all(\"td\")\n",
    "    \n",
    "    language = cols[0].text.strip()\n",
    "    salary = cols[1].text.strip()\n",
    "\n",
    "    languages.append(language)\n",
    "    salaries.append(salary)"
   ]
  },
  {
   "cell_type": "code",
   "execution_count": 42,
   "id": "19475fb7-8111-4bbb-8438-2a6e06d7571e",
   "metadata": {},
   "outputs": [],
   "source": [
    "# Create a DataFrame\n",
    "df = pd.DataFrame({\n",
    "    \"Language\": languages,\n",
    "    \"Average Annual Salary\": salaries\n",
    "})"
   ]
  },
  {
   "cell_type": "code",
   "execution_count": 43,
   "id": "1a226e36-7800-49a9-adf8-502e0a317ec7",
   "metadata": {},
   "outputs": [],
   "source": [
    "# Save the scraped data into a file named popular-languages.csv\n",
    "df.to_csv(\"C:/Users/nguif/Desktop/N Power/Capstone Project/popular-languages1.csv\", index=False)\n",
    "\n"
   ]
  },
  {
   "cell_type": "code",
   "execution_count": 44,
   "id": "1a11f7b9-a0de-4dd9-a529-426350fad801",
   "metadata": {},
   "outputs": [
    {
     "name": "stdout",
     "output_type": "stream",
     "text": [
      "Scraping completed! Data saved to popular-languages1.csv\n"
     ]
    }
   ],
   "source": [
    "print(\"Scraping completed! Data saved to popular-languages1.csv\")"
   ]
  },
  {
   "cell_type": "code",
   "execution_count": null,
   "id": "c1c08dee-7bb7-4087-a7b3-7f36ecc9cea7",
   "metadata": {},
   "outputs": [],
   "source": []
  },
  {
   "cell_type": "code",
   "execution_count": 40,
   "id": "9a786721-9850-41e0-aa9a-9b39052f6ec3",
   "metadata": {},
   "outputs": [
    {
     "name": "stdout",
     "output_type": "stream",
     "text": [
      "Scraping completed! Data saved to popular-languages2.csv\n"
     ]
    }
   ],
   "source": [
    "# Import the required libraries\n",
    "import requests\n",
    "from bs4 import BeautifulSoup\n",
    "import pandas as pd\n",
    "\n",
    "# URL to scrape\n",
    "url = \"https://cf-courses-data.s3.us.cloud-object-storage.appdomain.cloud/IBM-DA0321EN-SkillsNetwork/labs/datasets/Programming_Languages.html\"\n",
    "\n",
    "# Download the webpage at the URL\n",
    "response = requests.get(url)\n",
    "html_content = response.text\n",
    "\n",
    "# Create a soup object\n",
    "soup = BeautifulSoup(html_content, \"html.parser\")\n",
    "\n",
    "# Find the table\n",
    "table = soup.find(\"table\")\n",
    "\n",
    "# Extract all rows\n",
    "rows = table.find_all(\"tr\")\n",
    "\n",
    "# Prepare lists to hold data\n",
    "numbers = []\n",
    "languages = []\n",
    "created_by = []\n",
    "salaries = []\n",
    "difficulty = []\n",
    "\n",
    "# Loop through the rows (skip the header row)\n",
    "for row in rows[1:]:\n",
    "    cols = row.find_all(\"td\")\n",
    "    \n",
    "    number = cols[0].text.strip()\n",
    "    language = cols[1].text.strip()\n",
    "    creator = cols[2].text.strip()\n",
    "    salary = cols[3].text.strip()\n",
    "    diff = cols[4].text.strip()\n",
    "    \n",
    "    numbers.append(number)\n",
    "    languages.append(language)\n",
    "    created_by.append(creator)\n",
    "    salaries.append(salary)\n",
    "    difficulty.append(diff)\n",
    "\n",
    "# Create a DataFrame\n",
    "df = pd.DataFrame({\n",
    "    \"No.\": numbers,\n",
    "    \"Language\": languages,\n",
    "    \"Created By\": created_by,\n",
    "    \"Average Annual Salary\": salaries,\n",
    "    \"Learning Difficulty\": difficulty\n",
    "})\n",
    "\n",
    "# Save the scraped data into a CSV file\n",
    "df.to_csv(\"C:/Users/nguif/Desktop/N Power/Capstone Project/popular-languages2.csv\", index=False)\n",
    "\n",
    "print(\"Scraping completed! Data saved to popular-languages2.csv\")\n"
   ]
  },
  {
   "cell_type": "code",
   "execution_count": null,
   "id": "c63bb6ab-69ac-42c6-b95e-66705fd439ad",
   "metadata": {},
   "outputs": [],
   "source": []
  }
 ],
 "metadata": {
  "kernelspec": {
   "display_name": "Python [conda env:base] *",
   "language": "python",
   "name": "conda-base-py"
  },
  "language_info": {
   "codemirror_mode": {
    "name": "ipython",
    "version": 3
   },
   "file_extension": ".py",
   "mimetype": "text/x-python",
   "name": "python",
   "nbconvert_exporter": "python",
   "pygments_lexer": "ipython3",
   "version": "3.12.3"
  }
 },
 "nbformat": 4,
 "nbformat_minor": 5
}
