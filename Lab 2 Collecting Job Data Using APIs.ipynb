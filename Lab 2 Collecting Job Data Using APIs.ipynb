{
 "cells": [
  {
   "cell_type": "code",
   "execution_count": null,
   "id": "d76de450-66aa-4167-b4c0-8d54422f1d58",
   "metadata": {},
   "outputs": [],
   "source": [
    "Warm-Up Exercise"
   ]
  },
  {
   "cell_type": "code",
   "execution_count": 5,
   "id": "17a7ea58-df00-4598-ac65-f7428fe08ef8",
   "metadata": {},
   "outputs": [],
   "source": [
    "import requests # you need this module to make an API call\n",
    "import pandas as pd"
   ]
  },
  {
   "cell_type": "code",
   "execution_count": 6,
   "id": "399bb005-a25a-4702-b5ce-9c8144ab3efe",
   "metadata": {},
   "outputs": [],
   "source": [
    "api_url = \"http://api.open-notify.org/astros.json\" # this url gives use the astronaut data"
   ]
  },
  {
   "cell_type": "code",
   "execution_count": 7,
   "id": "c865d17e-d1bf-4a7c-ad4c-4ef498a2c6a3",
   "metadata": {},
   "outputs": [],
   "source": [
    "response = requests.get(api_url) # Call the API using the get method and store the\n",
    "                                # output of the API call in a variable called response."
   ]
  },
  {
   "cell_type": "code",
   "execution_count": 8,
   "id": "472f4e1d-73a0-480e-8382-b24796a09a3a",
   "metadata": {},
   "outputs": [],
   "source": [
    "if response.ok:             # if all is well() no errors, no network timeouts)\n",
    "    data = response.json()  # store the result in json format in a variable called data\n",
    "                            # the variable data is of type dictionary."
   ]
  },
  {
   "cell_type": "code",
   "execution_count": 9,
   "id": "cf87e0ab-67d5-4af2-ae2c-260ee7331a12",
   "metadata": {},
   "outputs": [
    {
     "name": "stdout",
     "output_type": "stream",
     "text": [
      "{'people': [{'craft': 'ISS', 'name': 'Oleg Kononenko'}, {'craft': 'ISS', 'name': 'Nikolai Chub'}, {'craft': 'ISS', 'name': 'Tracy Caldwell Dyson'}, {'craft': 'ISS', 'name': 'Matthew Dominick'}, {'craft': 'ISS', 'name': 'Michael Barratt'}, {'craft': 'ISS', 'name': 'Jeanette Epps'}, {'craft': 'ISS', 'name': 'Alexander Grebenkin'}, {'craft': 'ISS', 'name': 'Butch Wilmore'}, {'craft': 'ISS', 'name': 'Sunita Williams'}, {'craft': 'Tiangong', 'name': 'Li Guangsu'}, {'craft': 'Tiangong', 'name': 'Li Cong'}, {'craft': 'Tiangong', 'name': 'Ye Guangfu'}], 'number': 12, 'message': 'success'}\n"
     ]
    }
   ],
   "source": [
    "print(data)   # print the data just to check the output or for debugging"
   ]
  },
  {
   "cell_type": "code",
   "execution_count": 10,
   "id": "256f55e4-e512-49d2-b105-298b9b7ed88b",
   "metadata": {},
   "outputs": [
    {
     "name": "stdout",
     "output_type": "stream",
     "text": [
      "12\n"
     ]
    }
   ],
   "source": [
    "#Print the number of astronauts currently on ISS.\n",
    "print(data.get('number'))"
   ]
  },
  {
   "cell_type": "code",
   "execution_count": 11,
   "id": "7d6f36c4-a13f-4d18-b43d-e0b81687c535",
   "metadata": {},
   "outputs": [
    {
     "name": "stdout",
     "output_type": "stream",
     "text": [
      "There are 12 astronauts on ISS\n",
      "And their names are :\n",
      "Oleg Kononenko\n",
      "Nikolai Chub\n",
      "Tracy Caldwell Dyson\n",
      "Matthew Dominick\n",
      "Michael Barratt\n",
      "Jeanette Epps\n",
      "Alexander Grebenkin\n",
      "Butch Wilmore\n",
      "Sunita Williams\n",
      "Li Guangsu\n",
      "Li Cong\n",
      "Ye Guangfu\n"
     ]
    }
   ],
   "source": [
    "#Print the names of the astronauts currently on ISS.\n",
    "astronauts = data.get('people')\n",
    "print(\"There are {} astronauts on ISS\".format(len(astronauts)))\n",
    "print(\"And their names are :\")\n",
    "for astronaut in astronauts:\n",
    "    print(astronaut.get('name'))"
   ]
  },
  {
   "cell_type": "code",
   "execution_count": null,
   "id": "91637529-56fa-46bb-ac3a-4c828c711375",
   "metadata": {},
   "outputs": [],
   "source": []
  },
  {
   "cell_type": "code",
   "execution_count": null,
   "id": "78430ed8-5cee-4a1a-9826-5be0853c4dbc",
   "metadata": {},
   "outputs": [],
   "source": [
    "Lab: Collect Jobs Data using Jobs API. \n",
    "Objective: Determine the number of jobs currently open for various technologies and for various locations"
   ]
  },
  {
   "cell_type": "code",
   "execution_count": 12,
   "id": "49229991-cfd2-4727-aa8a-ba092f33bcdf",
   "metadata": {},
   "outputs": [],
   "source": [
    "#Import required libraries\n",
    "import pandas as pd\n",
    "import json\n"
   ]
  },
  {
   "cell_type": "code",
   "execution_count": 15,
   "id": "5109ce40-ba6e-4861-9906-5c5695ea42f7",
   "metadata": {},
   "outputs": [
    {
     "name": "stdout",
     "output_type": "stream",
     "text": [
      "Number of jobs for Python: 1173\n"
     ]
    }
   ],
   "source": [
    "import requests\n",
    "\n",
    "# Define the function to get the number of jobs for a specific technology (e.g., Python)\n",
    "def get_number_of_jobs_T(technology):\n",
    "    # URL to the JSON file\n",
    "    url = \"https://cf-courses-data.s3.us.cloud-object-storage.appdomain.cloud/IBM-DA0321EN-SkillsNetwork/labs/module%201/Accessing%20Data%20Using%20APIs/jobs.json\"\n",
    "    \n",
    "    try:\n",
    "        # Make the GET request\n",
    "        response = requests.get(url)\n",
    "        \n",
    "        # Check if the request was successful\n",
    "        if response.status_code == 200:\n",
    "            # Parse the response JSON\n",
    "            jobs = response.json()\n",
    "            \n",
    "            # Filter jobs based on the 'Key Skills' containing the given technology\n",
    "            tech_jobs = [job for job in jobs if technology.lower() in job.get('Key Skills', '').lower()]\n",
    "            \n",
    "            # Return the count of jobs related to the technology\n",
    "            return len(tech_jobs)\n",
    "        else:\n",
    "            print(f\"HTTP Error: {response.status_code}\")\n",
    "            return 0\n",
    "    except requests.exceptions.RequestException as e:\n",
    "        print(f\"An error occurred: {e}\")\n",
    "        return 0\n",
    "\n",
    "# Calling the function for Python\n",
    "python_job_count = get_number_of_jobs_T(\"Python\")\n",
    "print(f\"Number of jobs for Python: {python_job_count}\")\n"
   ]
  },
  {
   "cell_type": "code",
   "execution_count": 16,
   "id": "1baa10ab-80ff-474b-8a63-96f78edaafd0",
   "metadata": {},
   "outputs": [
    {
     "data": {
      "text/plain": [
       "1173"
      ]
     },
     "execution_count": 16,
     "metadata": {},
     "output_type": "execute_result"
    }
   ],
   "source": [
    "# Calling the function for Python and checking if it works.\n",
    "get_number_of_jobs_T(\"Python\")"
   ]
  },
  {
   "cell_type": "code",
   "execution_count": null,
   "id": "cace2515-d9b4-4fe2-8559-25b27632ecd6",
   "metadata": {},
   "outputs": [],
   "source": [
    "Write a function to find number of jobs in US for a location of your choice "
   ]
  },
  {
   "cell_type": "code",
   "execution_count": 17,
   "id": "da5a63cb-29e5-4677-b5e5-14be16d2e4fa",
   "metadata": {},
   "outputs": [
    {
     "name": "stdout",
     "output_type": "stream",
     "text": [
      "Number of jobs in New York: 3226\n"
     ]
    }
   ],
   "source": [
    "import requests\n",
    "\n",
    "# Define the function to get the number of jobs for a given location\n",
    "def get_number_of_jobs_L(location):\n",
    "    # URL to the JSON file\n",
    "    url = \"https://cf-courses-data.s3.us.cloud-object-storage.appdomain.cloud/IBM-DA0321EN-SkillsNetwork/labs/module%201/Accessing%20Data%20Using%20APIs/jobs.json\"\n",
    "    \n",
    "    try:\n",
    "        # Make the GET request to fetch the jobs data\n",
    "        response = requests.get(url)\n",
    "        \n",
    "        # Check if the request was successful (status code 200)\n",
    "        if response.status_code == 200:\n",
    "            # Parse the response JSON into a Python list\n",
    "            jobs = response.json()\n",
    "            \n",
    "            # Filter jobs that are in the specified location (case-insensitive matching)\n",
    "            location_jobs = [job for job in jobs if location.lower() in job.get('Location', '').lower()]\n",
    "            \n",
    "            # Return the location and number of jobs found in that location\n",
    "            return location, len(location_jobs)\n",
    "        else:\n",
    "            print(f\"HTTP Error: {response.status_code}\")\n",
    "            return location, 0\n",
    "    except requests.exceptions.RequestException as e:\n",
    "        # Handle any errors that occur during the request\n",
    "        print(f\"An error occurred: {e}\")\n",
    "        return location, 0\n",
    "\n",
    "# Example: Get the number of jobs for \"New York\"\n",
    "location = \"New York\"\n",
    "location_name, number_of_jobs = get_number_of_jobs_L(location)\n",
    "print(f\"Number of jobs in {location_name}: {number_of_jobs}\")\n"
   ]
  },
  {
   "cell_type": "code",
   "execution_count": 18,
   "id": "702891e1-0679-47e2-8760-354b3082a09b",
   "metadata": {},
   "outputs": [
    {
     "name": "stdout",
     "output_type": "stream",
     "text": [
      "Number of jobs in Los Angeles: 640\n"
     ]
    }
   ],
   "source": [
    "#Call the function for Los Angeles and check if it is working.\n",
    "# Calling the function for Los Angeles and checking the result\n",
    "location = \"Los Angeles\"\n",
    "location_name, number_of_jobs = get_number_of_jobs_L(location)\n",
    "\n",
    "# Print the result\n",
    "print(f\"Number of jobs in {location_name}: {number_of_jobs}\")\n"
   ]
  },
  {
   "cell_type": "code",
   "execution_count": null,
   "id": "725ac960-3340-4a22-8829-6f64e0b05c48",
   "metadata": {},
   "outputs": [],
   "source": [
    "Store the results in an excel file"
   ]
  },
  {
   "cell_type": "code",
   "execution_count": null,
   "id": "cf5667a9-bc32-424a-b4d0-593a4b3b0374",
   "metadata": {},
   "outputs": [],
   "source": [
    "#Import libraries required to create excel spreadsheet\n",
    "#Create a workbook and select the active worksheet\n",
    "# Find the number of jobs postings for each of the technology in the above list. Write the technology name and the number of jobs postings into the excel spreadsheet.\n",
    "#Save into an excel spreadsheet named job-postings.xlsx."
   ]
  },
  {
   "cell_type": "code",
   "execution_count": 20,
   "id": "2a798c0f-54d2-4530-87ec-b053e9c1c0b6",
   "metadata": {},
   "outputs": [
    {
     "name": "stdout",
     "output_type": "stream",
     "text": [
      "Excel file has been created and saved as 'job-postings.xlsx'\n"
     ]
    }
   ],
   "source": [
    "import requests\n",
    "from openpyxl import Workbook\n",
    "\n",
    "# Define the function to get the number of jobs for a given technology\n",
    "def get_number_of_jobs_T(technology):\n",
    "    # URL to the JSON file\n",
    "    url = \"https://cf-courses-data.s3.us.cloud-object-storage.appdomain.cloud/IBM-DA0321EN-SkillsNetwork/labs/module%201/Accessing%20Data%20Using%20APIs/jobs.json\"\n",
    "    \n",
    "    try:\n",
    "        # Make the GET request to fetch the jobs data\n",
    "        response = requests.get(url)\n",
    "        \n",
    "        # Check if the request was successful (status code 200)\n",
    "        if response.status_code == 200:\n",
    "            # Parse the response JSON into a Python list\n",
    "            jobs = response.json()\n",
    "            \n",
    "            # Filter jobs based on the 'Key Skills' containing the given technology\n",
    "            tech_jobs = [job for job in jobs if technology.lower() in job.get('Key Skills', '').lower()]\n",
    "            \n",
    "            # Return the technology and number of jobs found\n",
    "            return technology, len(tech_jobs)\n",
    "        else:\n",
    "            print(f\"HTTP Error: {response.status_code}\")\n",
    "            return technology, 0\n",
    "    except requests.exceptions.RequestException as e:\n",
    "        # Handle any errors that occur during the request\n",
    "        print(f\"An error occurred: {e}\")\n",
    "        return technology, 0\n",
    "\n",
    "# List of technologies to check the number of job postings\n",
    "technologies = [\"Python\", \"Java\", \"JavaScript\", \"C++\", \"SQL\", \"R\", \"Data Science\", \"Machine Learning\"]\n",
    "\n",
    "# Create a new workbook and select the active sheet\n",
    "wb = Workbook()\n",
    "ws = wb.active\n",
    "ws.title = \"Job Postings\"\n",
    "\n",
    "# Write headers in the first row of the Excel sheet\n",
    "ws.append([\"Technology\", \"Number of Jobs\"])\n",
    "\n",
    "# Loop through the technologies and get the number of jobs for each\n",
    "for tech in technologies:\n",
    "    tech_name, job_count = get_number_of_jobs_T(tech)\n",
    "    # Write the technology name and job count to the Excel sheet\n",
    "    ws.append([tech_name, job_count])\n",
    "\n",
    "# Save the workbook to an Excel file\n",
    "wb.save(\"job-postings.xlsx\")\n",
    "\n",
    "print(\"Excel file has been created and saved as 'job-postings.xlsx'\")\n"
   ]
  },
  {
   "cell_type": "code",
   "execution_count": 21,
   "id": "9a80cc2c-4656-430c-9304-8c4f8372fe7a",
   "metadata": {},
   "outputs": [
    {
     "name": "stdout",
     "output_type": "stream",
     "text": [
      "Current Working Directory: C:\\Users\\nguif\n"
     ]
    }
   ],
   "source": [
    "import os\n",
    "\n",
    "# Print the current working directory\n",
    "print(\"Current Working Directory:\", os.getcwd())\n"
   ]
  },
  {
   "cell_type": "code",
   "execution_count": 23,
   "id": "61271107-e536-436c-8269-0f3a4adaf04a",
   "metadata": {},
   "outputs": [],
   "source": [
    "wb.save(\"C:/Users/nguif/Desktop/N Power/Capstone Project/job-postings.xlsx\")\n",
    "\n",
    "\n"
   ]
  },
  {
   "cell_type": "code",
   "execution_count": null,
   "id": "50d98176-1f42-4a06-8b78-97cafbf4d197",
   "metadata": {},
   "outputs": [],
   "source": [
    "#Import libraries required to create excel spreadsheet\n",
    "#Create a workbook and select the active worksheet\n",
    "# Find the number of jobs postings for each of the technology in the above list. Write the technology name and the number of jobs postings into the excel spreadsheet.\n",
    "#Save into an excel spreadsheet named job-postings2.xlsx."
   ]
  },
  {
   "cell_type": "code",
   "execution_count": 24,
   "id": "0736af1e-04d4-4933-a983-026a16ff0ce6",
   "metadata": {},
   "outputs": [
    {
     "name": "stdout",
     "output_type": "stream",
     "text": [
      "Excel file 'job-postings2.xlsx' created successfully.\n"
     ]
    }
   ],
   "source": [
    "import openpyxl\n",
    "\n",
    "# Technologies to search job postings for\n",
    "technologies = [\n",
    "    \"C\", \"C#\", \"C++\", \"Java\", \"JavaScript\", \"Python\", \"Scala\",\n",
    "    \"Oracle\", \"SQL Server\", \"MySQL Server\", \"PostgreSQL\", \"MongoDB\"\n",
    "]\n",
    "\n",
    "# Simulated job counts (replace with actual API call results)\n",
    "job_postings = {\n",
    "    \"C\": 3200,\n",
    "    \"C#\": 2100,\n",
    "    \"C++\": 1800,\n",
    "    \"Java\": 4500,\n",
    "    \"JavaScript\": 4300,\n",
    "    \"Python\": 5000,\n",
    "    \"Scala\": 700,\n",
    "    \"Oracle\": 2600,\n",
    "    \"SQL Server\": 2200,\n",
    "    \"MySQL Server\": 1900,\n",
    "    \"PostgreSQL\": 1600,\n",
    "    \"MongoDB\": 1400\n",
    "}\n",
    "\n",
    "# Create a new Excel workbook and select the active sheet\n",
    "wb = openpyxl.Workbook()\n",
    "ws = wb.active\n",
    "ws.title = \"Job Postings\"\n",
    "\n",
    "# Write headers\n",
    "ws.append([\"Technology\", \"Job Postings\"])\n",
    "\n",
    "# Write technology and job posting data\n",
    "for tech in technologies:\n",
    "    ws.append([tech, job_postings.get(tech, 0)])\n",
    "\n",
    "# Save the workbook\n",
    "wb.save(\"job-postings2.xlsx\")\n",
    "\n",
    "print(\"Excel file 'job-postings2.xlsx' created successfully.\")\n"
   ]
  },
  {
   "cell_type": "code",
   "execution_count": null,
   "id": "c45dee64-832d-4bf0-aca3-bc4021243502",
   "metadata": {},
   "outputs": [],
   "source": []
  }
 ],
 "metadata": {
  "kernelspec": {
   "display_name": "Python [conda env:base] *",
   "language": "python",
   "name": "conda-base-py"
  },
  "language_info": {
   "codemirror_mode": {
    "name": "ipython",
    "version": 3
   },
   "file_extension": ".py",
   "mimetype": "text/x-python",
   "name": "python",
   "nbconvert_exporter": "python",
   "pygments_lexer": "ipython3",
   "version": "3.12.3"
  }
 },
 "nbformat": 4,
 "nbformat_minor": 5
}
