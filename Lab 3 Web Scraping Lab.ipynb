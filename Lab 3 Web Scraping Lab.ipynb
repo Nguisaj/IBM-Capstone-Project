{
 "cells": [
  {
   "cell_type": "code",
   "execution_count": null,
   "id": "bcfbbe0e-cd8a-4554-902d-b7345c31afe5",
   "metadata": {},
   "outputs": [],
   "source": []
  },
  {
   "cell_type": "code",
   "execution_count": null,
   "id": "48485f33-8b36-4f35-8c96-923b81173f2f",
   "metadata": {},
   "outputs": [],
   "source": []
  },
  {
   "cell_type": "code",
   "execution_count": null,
   "id": "6b286a40-fb86-4c4d-877c-01119c69f506",
   "metadata": {},
   "outputs": [],
   "source": []
  },
  {
   "cell_type": "code",
   "execution_count": null,
   "id": "9a6cd242-2df8-49f2-8b47-043bf2511344",
   "metadata": {},
   "outputs": [],
   "source": [
    "Scrape www.ibm.com"
   ]
  },
  {
   "cell_type": "code",
   "execution_count": 3,
   "id": "4d79ea4d-e1da-4b33-889d-3edec513c5c9",
   "metadata": {},
   "outputs": [],
   "source": [
    "#Import the required modules and functions\n",
    "from bs4 import BeautifulSoup # this module helps in web scrapping.\n",
    "import requests  # this module helps us to download a webpage"
   ]
  },
  {
   "cell_type": "code",
   "execution_count": 18,
   "id": "4d63bf5e-6c40-4968-97b0-26eb16c19473",
   "metadata": {},
   "outputs": [],
   "source": [
    "# Download the contents of the webpage\n",
    "url = \"http://www.ibm.com\""
   ]
  },
  {
   "cell_type": "code",
   "execution_count": 19,
   "id": "e3c7a918-533d-46d1-a1ef-e3040244479a",
   "metadata": {},
   "outputs": [],
   "source": [
    "# get the contents of the webpage in text format and store in a variable called data\n",
    "data  = requests.get(url).text "
   ]
  },
  {
   "cell_type": "code",
   "execution_count": 20,
   "id": "b0fbadd3-f3ab-49f4-b91c-d048b76d1244",
   "metadata": {},
   "outputs": [],
   "source": [
    "#Create a soup object using the class BeautifulSoup\n",
    "soup = BeautifulSoup(data,\"html.parser\")  # create a soup object using the variable 'data'"
   ]
  },
  {
   "cell_type": "code",
   "execution_count": 21,
   "id": "67d39ae4-d0c0-4210-b7e6-18233aa369b7",
   "metadata": {},
   "outputs": [
    {
     "name": "stdout",
     "output_type": "stream",
     "text": [
      "https://www.ibm.com/store/en/ca/products/EIDS2PRM?lnk=hpbt1caen\n",
      "https://www.ibm.com/finops?lnk=hpls1caen\n",
      "https://www.ibm.com/products/turbonomic/cloud-optimization??lnk=hpls2caen\n",
      "https://www.ibm.com/granite?lnk=hpdev1caen\n",
      "https://developer.ibm.com/technologies/artificial-intelligence?lnk=hpdev2caen\n",
      "https://skillsbuild.org/?lnk=hpdev3caen\n",
      "https://www.youtube.com/watch?v=g0CaNTs5DaI&lnk=hpdev4caen\n",
      "https://www.ibm.com/new/announcements/ibm-named-a-leader-in-the-2025-gartner-magic-quadrant-for-data-science-and-machine-learning-platforms?lnk=hpdev5caen\n",
      "https://www.ibm.com/new/announcements/ibm-leader-2025-omdia-universe-on-no-low-pro-ide-assistants-report?lnk=hpdev6caen\n",
      "https://www.ibm.com/products?field_keyword_01%5B0%5D=Free%20Trial\n",
      "https://www.ibm.com/products/watsonx-ai?lnk=hpdev8caen\n",
      "https://www.ibm.com/products/offers-and-discounts?lnk=hpbt2caen\n",
      "https://www.ibm.com/artificial-intelligence?lnk=ProdC\n",
      "https://www.ibm.com/hybrid-cloud?lnk=ProdC\n",
      "https://www.ibm.com/consulting?lnk=ProdC\n",
      "https://www.ibm.com/ca-en/about?lnk=inside\n",
      "https://www.ibm.com/ca-en/history?lnk=inside\n",
      "https://research.ibm.com?lnk=inside\n",
      "https://www.ibm.com/quantum?lnk=inside\n",
      "https://www.ibm.com/ca-en/careers?lnk=hpii1ca\n",
      "https://skillsbuild.org?lnk=hpii1au\n"
     ]
    }
   ],
   "source": [
    "# Scrape all links\n",
    "for link in soup.find_all('a'):  # in html anchor/link is represented by the tag <a>\n",
    "    print(link.get('href'))"
   ]
  },
  {
   "cell_type": "code",
   "execution_count": 22,
   "id": "afcd3ff1-f431-4869-a1ce-0905d47909e1",
   "metadata": {},
   "outputs": [],
   "source": [
    "# Scrape all images\n",
    "for link in soup.find_all('img'):# in html image is represented by the tag <img>\n",
    "    print(link.get('src'))"
   ]
  },
  {
   "cell_type": "code",
   "execution_count": null,
   "id": "67b4796d-39e1-4071-9592-3af8c2135e55",
   "metadata": {},
   "outputs": [],
   "source": []
  },
  {
   "cell_type": "code",
   "execution_count": null,
   "id": "ae98691a-ab18-4b85-8104-175c75cb422c",
   "metadata": {},
   "outputs": [],
   "source": [
    "Scrape data from html tables"
   ]
  },
  {
   "cell_type": "code",
   "execution_count": 10,
   "id": "ea963ebf-03c8-45b6-9653-0f08558d52b6",
   "metadata": {},
   "outputs": [],
   "source": [
    "#The below URL contains a html table with data about colors and color codes.\n",
    "URL = \"https://cf-courses-data.s3.us.cloud-object-storage.appdomain.cloud/IBM-DA0321EN-SkillsNetwork/labs/datasets/HTMLColorCodes.html\""
   ]
  },
  {
   "cell_type": "code",
   "execution_count": 11,
   "id": "61347a10-0768-4020-bb95-926b6018bbc8",
   "metadata": {},
   "outputs": [],
   "source": [
    "# get the contents of the webpage in text format and store in a variable called data\n",
    "data  = requests.get(URL).text"
   ]
  },
  {
   "cell_type": "code",
   "execution_count": 12,
   "id": "55d4e739-af81-4c77-a12b-3c9693e3ec19",
   "metadata": {},
   "outputs": [],
   "source": [
    "soup = BeautifulSoup(data,\"html.parser\")"
   ]
  },
  {
   "cell_type": "code",
   "execution_count": 13,
   "id": "27bbde4b-d885-4b1b-b406-3d08980c79d6",
   "metadata": {},
   "outputs": [],
   "source": [
    "#find a html table in the web page\n",
    "table = soup.find('table') # in html table is represented by the tag <table>"
   ]
  },
  {
   "cell_type": "code",
   "execution_count": null,
   "id": "093d486a-9fbf-45c0-afe1-5f63313357ab",
   "metadata": {},
   "outputs": [],
   "source": []
  },
  {
   "cell_type": "code",
   "execution_count": null,
   "id": "ffefafc5-7cfa-4b48-88e3-981f23f82f32",
   "metadata": {},
   "outputs": [],
   "source": [
    "Get all rows from the table"
   ]
  },
  {
   "cell_type": "code",
   "execution_count": 14,
   "id": "c4a0bf96-2245-4f9a-b834-7de50a3d3abb",
   "metadata": {},
   "outputs": [
    {
     "name": "stdout",
     "output_type": "stream",
     "text": [
      "Color Name--->Hex Code#RRGGBB\n",
      "lightsalmon--->#FFA07A\n",
      "salmon--->#FA8072\n",
      "darksalmon--->#E9967A\n",
      "lightcoral--->#F08080\n",
      "coral--->#FF7F50\n",
      "tomato--->#FF6347\n",
      "orangered--->#FF4500\n",
      "gold--->#FFD700\n",
      "orange--->#FFA500\n",
      "darkorange--->#FF8C00\n",
      "lightyellow--->#FFFFE0\n",
      "lemonchiffon--->#FFFACD\n",
      "papayawhip--->#FFEFD5\n",
      "moccasin--->#FFE4B5\n",
      "peachpuff--->#FFDAB9\n",
      "palegoldenrod--->#EEE8AA\n",
      "khaki--->#F0E68C\n",
      "darkkhaki--->#BDB76B\n",
      "yellow--->#FFFF00\n",
      "lawngreen--->#7CFC00\n",
      "chartreuse--->#7FFF00\n",
      "limegreen--->#32CD32\n",
      "lime--->#00FF00\n",
      "forestgreen--->#228B22\n",
      "green--->#008000\n",
      "powderblue--->#B0E0E6\n",
      "lightblue--->#ADD8E6\n",
      "lightskyblue--->#87CEFA\n",
      "skyblue--->#87CEEB\n",
      "deepskyblue--->#00BFFF\n",
      "lightsteelblue--->#B0C4DE\n",
      "dodgerblue--->#1E90FF\n"
     ]
    }
   ],
   "source": [
    "for row in table.find_all('tr'): # in html table row is represented by the tag <tr>\n",
    "    # Get all columns in each row.\n",
    "    cols = row.find_all('td') # in html a column is represented by the tag <td>\n",
    "    color_name = cols[2].getText() # store the value in column 3 as color_name\n",
    "    color_code = cols[3].getText() # store the value in column 4 as color_code\n",
    "    print(\"{}--->{}\".format(color_name,color_code))"
   ]
  },
  {
   "cell_type": "code",
   "execution_count": null,
   "id": "2318c6bc-cdf8-47f7-b985-581be3900d9c",
   "metadata": {},
   "outputs": [],
   "source": []
  }
 ],
 "metadata": {
  "kernelspec": {
   "display_name": "Python [conda env:base] *",
   "language": "python",
   "name": "conda-base-py"
  },
  "language_info": {
   "codemirror_mode": {
    "name": "ipython",
    "version": 3
   },
   "file_extension": ".py",
   "mimetype": "text/x-python",
   "name": "python",
   "nbconvert_exporter": "python",
   "pygments_lexer": "ipython3",
   "version": "3.12.3"
  }
 },
 "nbformat": 4,
 "nbformat_minor": 5
}
